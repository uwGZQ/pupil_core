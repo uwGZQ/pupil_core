{
 "cells": [
  {
   "cell_type": "code",
   "execution_count": 7,
   "metadata": {},
   "outputs": [
    {
     "name": "stdout",
     "output_type": "stream",
     "text": [
      "CameraSpec(name='Neon Scene Camera v1', vendor_id=3034, product_id=12342, width=1280, height=720, fps=30, bandwidth_factor=1.2)\n",
      "[{'name': 'Pupil Cam1 ID2', 'manufacturer': 'Pupil Cam1 ID2', 'serialNumber': 'unknown', 'idProduct': 37426, 'idVendor': 1443, 'device_address': 22, 'bus_number': 20, 'uid': '20:22'}, {'name': 'Pupil Cam2 ID1', 'manufacturer': 'Pupil Cam2 ID1', 'serialNumber': 'unknown', 'idProduct': 25771, 'idVendor': 3141, 'device_address': 20, 'bus_number': 20, 'uid': '20:20'}, {'name': 'Pupil Cam2 ID0', 'manufacturer': 'Pupil Cam2 ID0', 'serialNumber': 'unknown', 'idProduct': 25771, 'idVendor': 3141, 'device_address': 18, 'bus_number': 20, 'uid': '20:18'}]\n"
     ]
    },
    {
     "ename": "OpenError",
     "evalue": "Could not open device. Error: Access denied",
     "output_type": "error",
     "traceback": [
      "\u001b[0;31m---------------------------------------------------------------------------\u001b[0m",
      "\u001b[0;31mOpenError\u001b[0m                                 Traceback (most recent call last)",
      "\u001b[0;32m/var/folders/r8/hkcjwfh96_nc7h6s4k1rtnzr0000gn/T/ipykernel_44254/1207498215.py\u001b[0m in \u001b[0;36m<module>\u001b[0;34m\u001b[0m\n\u001b[1;32m     32\u001b[0m \u001b[0;34m\u001b[0m\u001b[0m\n\u001b[1;32m     33\u001b[0m \u001b[0mprint\u001b[0m\u001b[0;34m(\u001b[0m\u001b[0muvc\u001b[0m\u001b[0;34m.\u001b[0m\u001b[0mdevice_list\u001b[0m\u001b[0;34m(\u001b[0m\u001b[0;34m)\u001b[0m\u001b[0;34m)\u001b[0m\u001b[0;34m\u001b[0m\u001b[0;34m\u001b[0m\u001b[0m\n\u001b[0;32m---> 34\u001b[0;31m \u001b[0mprint\u001b[0m\u001b[0;34m(\u001b[0m\u001b[0muvc\u001b[0m\u001b[0;34m.\u001b[0m\u001b[0mCapture\u001b[0m\u001b[0;34m(\u001b[0m\u001b[0;34m'20:22'\u001b[0m\u001b[0;34m)\u001b[0m\u001b[0;34m)\u001b[0m\u001b[0;34m\u001b[0m\u001b[0;34m\u001b[0m\u001b[0m\n\u001b[0m\u001b[1;32m     35\u001b[0m \u001b[0;34m\u001b[0m\u001b[0m\n\u001b[1;32m     36\u001b[0m \u001b[0;32mdef\u001b[0m \u001b[0mcapture_and_show_video\u001b[0m\u001b[0;34m(\u001b[0m\u001b[0mcamera_spec\u001b[0m\u001b[0;34m)\u001b[0m\u001b[0;34m:\u001b[0m\u001b[0;34m\u001b[0m\u001b[0;34m\u001b[0m\u001b[0m\n",
      "\u001b[0;32muvc_bindings.pyx\u001b[0m in \u001b[0;36muvc_bindings.Capture.__init__\u001b[0;34m()\u001b[0m\n",
      "\u001b[0;32muvc_bindings.pyx\u001b[0m in \u001b[0;36muvc_bindings.Capture._init_device\u001b[0;34m()\u001b[0m\n",
      "\u001b[0;31mOpenError\u001b[0m: Could not open device. Error: Access denied"
     ]
    }
   ],
   "source": [
    "import cv2\n",
    "import numpy as np\n",
    "import sys\n",
    "import pathlib\n",
    "# 将当前目录上一级的上一级目录加入到系统路径中\n",
    "# name '__file__' is not defined\n",
    "# SCENE_CAM_SPEC = CameraSpec(\n",
    "#     name=\"Neon Scene Camera v1\",\n",
    "#     vendor_id=0x0BDA,\n",
    "#     product_id=0x3036,\n",
    "#     width=1280,\n",
    "#     height=720,\n",
    "#     fps=30,\n",
    "#     bandwidth_factor=1.2,\n",
    "# )\n",
    "sys.path.append(\"/Users/gaoziqi/Desktop/EyeTrack/pupil_core/pupil_src/shared_modules\")\n",
    "from neon_backend.camera import NeonCameraInterface, SCENE_CAM_SPEC\n",
    "print(SCENE_CAM_SPEC)\n",
    "from neon_backend.definitions import CameraSpec\n",
    "\n",
    "# SCENE_CAM_SPEC = CameraSpec(\n",
    "#     name=\"Endoplus\",\n",
    "#     vendor_id=3141,  # 0x0C45\n",
    "#     product_id=25771,  # 0x6483\n",
    "#     width=1280,\n",
    "#     height=720,\n",
    "#     fps=30,\n",
    "#     bandwidth_factor=1.2,\n",
    "# )\n",
    "\n",
    "import uvc\n",
    "\n",
    "print(uvc.device_list())\n",
    "print(uvc.Capture('20:22'))\n",
    "\n",
    "def capture_and_show_video(camera_spec):\n",
    "    with NeonCameraInterface(camera_spec) as camera:\n",
    "        print(\"Starting video capture...\")\n",
    "        try:\n",
    "            while True:\n",
    "                frame = camera.get_shared_frame(0.03)  # 0.03秒的超时时间\n",
    "                if frame is not None and frame.data_fully_received:\n",
    "                    # 转换为OpenCV图像格式\n",
    "                    image = np.array(frame.gray, dtype=np.uint8)\n",
    "                    cv2.imshow('Camera Stream', image)\n",
    "\n",
    "                    if cv2.waitKey(1) & 0xFF == ord('q'):\n",
    "                        break\n",
    "        except KeyboardInterrupt:\n",
    "            print(\"Stopping video capture...\")\n",
    "\n",
    "    cv2.destroyAllWindows()\n",
    "\n",
    "# 使用示例\n",
    "# capture_and_show_video(SCENE_CAM_SPEC)\n"
   ]
  }
 ],
 "metadata": {
  "kernelspec": {
   "display_name": "base",
   "language": "python",
   "name": "python3"
  },
  "language_info": {
   "codemirror_mode": {
    "name": "ipython",
    "version": 3
   },
   "file_extension": ".py",
   "mimetype": "text/x-python",
   "name": "python",
   "nbconvert_exporter": "python",
   "pygments_lexer": "ipython3",
   "version": "3.8.5"
  }
 },
 "nbformat": 4,
 "nbformat_minor": 2
}
